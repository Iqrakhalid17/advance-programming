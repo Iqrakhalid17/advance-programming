{
 "cells": [
  {
   "cell_type": "code",
   "execution_count": 5,
   "id": "9730410f-aade-442a-acb1-30122b595886",
   "metadata": {},
   "outputs": [
    {
     "data": {
      "text/plain": [
       "dict_keys(['gender', 'name', 'age', 'country', 'mode'])"
      ]
     },
     "execution_count": 5,
     "metadata": {},
     "output_type": "execute_result"
    }
   ],
   "source": [
    "dict = {'gender': 'male',\n",
    "        'name' : 'salam',\n",
    "        'age' : '25',\n",
    "        'country' : 'usa',\n",
    "        'mode' : 'weak'}\n",
    "dict.keys()"
   ]
  },
  {
   "cell_type": "code",
   "execution_count": 6,
   "id": "59276965-1397-4e5b-b9e6-d7b28fdbcc2d",
   "metadata": {},
   "outputs": [
    {
     "data": {
      "text/plain": [
       "dict_values(['male', 'salam', '25', 'usa', 'weak'])"
      ]
     },
     "execution_count": 6,
     "metadata": {},
     "output_type": "execute_result"
    }
   ],
   "source": [
    "dict.values()"
   ]
  },
  {
   "cell_type": "code",
   "execution_count": 7,
   "id": "722af6f5-f125-4208-b5f2-d4c364c874db",
   "metadata": {},
   "outputs": [
    {
     "data": {
      "text/plain": [
       "{'gender': 'male',\n",
       " 'name': 'salam',\n",
       " 'age': '25',\n",
       " 'country': 'usa',\n",
       " 'mode': 'weak'}"
      ]
     },
     "execution_count": 7,
     "metadata": {},
     "output_type": "execute_result"
    }
   ],
   "source": [
    "dict.copy()"
   ]
  },
  {
   "cell_type": "code",
   "execution_count": 13,
   "id": "82972cfc-6c08-431e-9121-712948140a62",
   "metadata": {},
   "outputs": [
    {
     "data": {
      "text/plain": [
       "{'a': None, 'g': None, 'e': None}"
      ]
     },
     "execution_count": 13,
     "metadata": {},
     "output_type": "execute_result"
    }
   ],
   "source": [
    "dict.fromkeys('age')"
   ]
  },
  {
   "cell_type": "code",
   "execution_count": 16,
   "id": "4d072fa2-e632-4e8d-af96-2b21d612abfd",
   "metadata": {},
   "outputs": [
    {
     "data": {
      "text/plain": [
       "'male'"
      ]
     },
     "execution_count": 16,
     "metadata": {},
     "output_type": "execute_result"
    }
   ],
   "source": [
    "dict.pop('gender')"
   ]
  },
  {
   "cell_type": "code",
   "execution_count": 17,
   "id": "343467a2-156d-4332-a1f7-80b930f75251",
   "metadata": {},
   "outputs": [
    {
     "data": {
      "text/plain": [
       "('mode', 'weak')"
      ]
     },
     "execution_count": 17,
     "metadata": {},
     "output_type": "execute_result"
    }
   ],
   "source": [
    "dict.popitem()"
   ]
  },
  {
   "cell_type": "code",
   "execution_count": 23,
   "id": "85a458f1-011c-4b6b-aa5c-5c4752a8f07c",
   "metadata": {},
   "outputs": [
    {
     "name": "stdout",
     "output_type": "stream",
     "text": [
      "('name', 'age', 'country')\n"
     ]
    }
   ],
   "source": [
    "tup = tuple(dict)\n",
    "print(tup)"
   ]
  },
  {
   "cell_type": "code",
   "execution_count": 24,
   "id": "71275261-d8c7-4ef8-bab9-7ac73ee3ca0b",
   "metadata": {},
   "outputs": [
    {
     "name": "stdout",
     "output_type": "stream",
     "text": [
      "{'name': 'salam', 'age': '25', 'country': 'usa'}\n"
     ]
    }
   ],
   "source": [
    "print(dict)"
   ]
  },
  {
   "cell_type": "code",
   "execution_count": 42,
   "id": "3424fc3c-77b3-46f5-a1b4-45b42668faee",
   "metadata": {},
   "outputs": [
    {
     "name": "stdin",
     "output_type": "stream",
     "text": [
      "enter a number 1\n"
     ]
    },
    {
     "name": "stdout",
     "output_type": "stream",
     "text": [
      "number is odd\n"
     ]
    }
   ],
   "source": [
    "number = int(input(\"enter a number\"))\n",
    "if number/2<1:\n",
    "             print('number is odd')\n",
    "    \n",
    "elif number/2>1:\n",
    "             print('number is even')\n",
    "             "
   ]
  },
  {
   "cell_type": "code",
   "execution_count": 48,
   "id": "ea385124-510f-4c53-828f-0e76fed14b2f",
   "metadata": {},
   "outputs": [
    {
     "name": "stdin",
     "output_type": "stream",
     "text": [
      "enter user name:  admin\n",
      "enter access_level:  9\n"
     ]
    },
    {
     "name": "stdout",
     "output_type": "stream",
     "text": [
      " Access granted!\n"
     ]
    }
   ],
   "source": [
    "user = input(\"enter user name: \")\n",
    "access_level = input(\"enter access_level: \")\n",
    "if user == 'admin' or access_level >= 8:\n",
    "    print(' Access granted!')\n",
    "\n",
    "else:\n",
    "    print('access denied!')"
   ]
  },
  {
   "cell_type": "code",
   "execution_count": 48,
   "id": "e1c2a00d-4682-467b-b20a-8bd0d526aa00",
   "metadata": {},
   "outputs": [
    {
     "name": "stdin",
     "output_type": "stream",
     "text": [
      "enter user name:  admin\n",
      "enter access_level:  9\n"
     ]
    },
    {
     "name": "stdout",
     "output_type": "stream",
     "text": [
      " Access granted!\n"
     ]
    }
   ],
   "source": [
    "user = input(\"enter user name: \")\n",
    "access_level = input(\"enter access_level: \")\n",
    "if user == 'admin' or access_level >= 8:\n",
    "    print(' Access granted!')\n",
    "\n",
    "else:\n",
    "    print('access denied!')"
   ]
  },
  {
   "cell_type": "code",
   "execution_count": 58,
   "id": "705eb8d5-5ded-41d6-aca9-117871054056",
   "metadata": {},
   "outputs": [
    {
     "name": "stdin",
     "output_type": "stream",
     "text": [
      "enter your name:  taurus\n",
      "enter age:  18\n"
     ]
    },
    {
     "name": "stdout",
     "output_type": "stream",
     "text": [
      "access denied!\n"
     ]
    }
   ],
   "source": [
    "user = input(\"enter your name: \")\n",
    "access_level =int(input(\"enter age: \"))\n",
    "if user == 'name' or access_level>= 20 :\n",
    "    print(' Access granted!')\n",
    "\n",
    "else:\n",
    "    print('access denied!')"
   ]
  },
  {
   "cell_type": "code",
   "execution_count": null,
   "id": "2ce44f29-0af4-4c85-a75d-aef27139032a",
   "metadata": {},
   "outputs": [],
   "source": []
  }
 ],
 "metadata": {
  "kernelspec": {
   "display_name": "Python 3 (ipykernel)",
   "language": "python",
   "name": "python3"
  },
  "language_info": {
   "codemirror_mode": {
    "name": "ipython",
    "version": 3
   },
   "file_extension": ".py",
   "mimetype": "text/x-python",
   "name": "python",
   "nbconvert_exporter": "python",
   "pygments_lexer": "ipython3",
   "version": "3.11.7"
  }
 },
 "nbformat": 4,
 "nbformat_minor": 5
}
