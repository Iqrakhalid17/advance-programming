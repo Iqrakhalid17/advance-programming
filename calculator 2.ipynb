{
 "cells": [
  {
   "cell_type": "code",
   "execution_count": 3,
   "id": "f4d215b3-c876-4a3b-974c-3fb2b3f9e982",
   "metadata": {},
   "outputs": [],
   "source": [
    "import calculator\n"
   ]
  },
  {
   "cell_type": "code",
   "execution_count": 7,
   "id": "c1e9d6bf-2c46-4d16-8136-6f7aa6c92b1c",
   "metadata": {},
   "outputs": [
    {
     "name": "stdout",
     "output_type": "stream",
     "text": [
      "<module 'calculator' from 'C:\\\\Users\\\\lab4\\\\Desktop\\\\taurus\\\\calculator.py'> 11\n"
     ]
    }
   ],
   "source": [
    "# for addition\n",
    "def addition(x,y):\n",
    "    return x+y\n",
    "\n",
    "# for subtraction\n",
    "def subtraction(x,y):\n",
    "    return x-y\n",
    "\n",
    "# for multiplacation\n",
    "def multiplacation(x,y):\n",
    "    return x*y\n",
    "\n",
    "# for division\n",
    "def division(x,y):\n",
    "    return x/y\n",
    "\n",
    "# for reminder\n",
    "def reminder(x,y):\n",
    "    return x%y\n",
    "    \n",
    "print(calculator,addition(8,3))"
   ]
  },
  {
   "cell_type": "code",
   "execution_count": 15,
   "id": "834ad7f1-1dbd-4b89-9b56-3e37623e8770",
   "metadata": {},
   "outputs": [
    {
     "name": "stdout",
     "output_type": "stream",
     "text": [
      "<module 'calculator' from 'C:\\\\Users\\\\lab4\\\\Desktop\\\\taurus\\\\calculator.py'> 10000\n",
      "<module 'calculator' from 'C:\\\\Users\\\\lab4\\\\Desktop\\\\taurus\\\\calculator.py'> 1000000\n",
      "<module 'calculator' from 'C:\\\\Users\\\\lab4\\\\Desktop\\\\taurus\\\\calculator.py'> 50.0\n",
      "<module 'calculator' from 'C:\\\\Users\\\\lab4\\\\Desktop\\\\taurus\\\\calculator.py'> 33.333333333333336\n"
     ]
    }
   ],
   "source": [
    "def square(x):\n",
    "    return x**2\n",
    "\n",
    "def cube(x):\n",
    "    return x**3\n",
    "\n",
    "def square_root(x):\n",
    "    return(x**1/2)\n",
    "\n",
    "def cube_root(x):\n",
    "    return(x**1/3)\n",
    "\n",
    "\n",
    "print(calculator,square(100))\n",
    "print(calculator,cube(100))\n",
    "print(calculator,square_root(100))\n",
    "print(calculator,cube_root(100))"
   ]
  },
  {
   "cell_type": "code",
   "execution_count": 18,
   "id": "e778ed57-fe2c-466d-8054-57d701cd05cd",
   "metadata": {},
   "outputs": [
    {
     "name": "stdout",
     "output_type": "stream",
     "text": [
      "15\n"
     ]
    }
   ],
   "source": [
    "a=lambda x,y: (x+y)\n",
    "print(a(9,6))"
   ]
  },
  {
   "cell_type": "code",
   "execution_count": 20,
   "id": "dbf80192-b5d8-4ed0-a60f-dff0d4ed60a9",
   "metadata": {},
   "outputs": [
    {
     "name": "stdout",
     "output_type": "stream",
     "text": [
      "110\n"
     ]
    }
   ],
   "source": [
    "a=lambda x: x+100\n",
    "print(a(10))"
   ]
  },
  {
   "cell_type": "code",
   "execution_count": null,
   "id": "6208d461-b992-4431-b93d-3c4a64009868",
   "metadata": {},
   "outputs": [],
   "source": []
  }
 ],
 "metadata": {
  "kernelspec": {
   "display_name": "Python 3 (ipykernel)",
   "language": "python",
   "name": "python3"
  },
  "language_info": {
   "codemirror_mode": {
    "name": "ipython",
    "version": 3
   },
   "file_extension": ".py",
   "mimetype": "text/x-python",
   "name": "python",
   "nbconvert_exporter": "python",
   "pygments_lexer": "ipython3",
   "version": "3.12.2"
  }
 },
 "nbformat": 4,
 "nbformat_minor": 5
}
