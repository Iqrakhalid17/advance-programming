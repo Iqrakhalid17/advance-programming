{
 "cells": [
  {
   "cell_type": "code",
   "execution_count": 3,
   "id": "aba4b7fa-c364-4f76-8652-de931e704ffe",
   "metadata": {},
   "outputs": [
    {
     "name": "stdout",
     "output_type": "stream",
     "text": [
      "7\n"
     ]
    }
   ],
   "source": [
    "number1=3\n",
    "number2=4\n",
    "sum=number1+number2\n",
    "print(sum)"
   ]
  },
  {
   "cell_type": "code",
   "execution_count": 4,
   "id": "44b665db-118d-4b10-b912-64f4135ff355",
   "metadata": {},
   "outputs": [
    {
     "name": "stdout",
     "output_type": "stream",
     "text": [
      "54\n"
     ]
    }
   ],
   "source": [
    "num1=6\n",
    "num2=9\n",
    "product=num1*num2\n",
    "print(product)"
   ]
  },
  {
   "cell_type": "code",
   "execution_count": 5,
   "id": "14639809-ac70-49e9-b07f-d19e6b09474e",
   "metadata": {},
   "outputs": [
    {
     "name": "stdout",
     "output_type": "stream",
     "text": [
      "-3\n"
     ]
    }
   ],
   "source": [
    "num1=4\n",
    "num2=7\n",
    "sub=num1-num2\n",
    "print(sub)"
   ]
  },
  {
   "cell_type": "code",
   "execution_count": 6,
   "id": "e9d88833-daad-48e8-949b-7b050db1b9bd",
   "metadata": {},
   "outputs": [
    {
     "name": "stdout",
     "output_type": "stream",
     "text": [
      "1.5\n"
     ]
    }
   ],
   "source": [
    "num1=9\n",
    "num2=6\n",
    "div=num1/num2\n",
    "print(div)"
   ]
  },
  {
   "cell_type": "code",
   "execution_count": 17,
   "id": "73a1dd96-f14d-46c8-9f7e-19f9d2a9a3e2",
   "metadata": {},
   "outputs": [
    {
     "name": "stdout",
     "output_type": "stream",
     "text": [
      "------------------------------------\n",
      "------------------------------------\n",
      " My profile\n"
     ]
    },
    {
     "name": "stdin",
     "output_type": "stream",
     "text": [
      " name: abiha\n",
      " course name: adv programming\n",
      " gender: female\n",
      " age: 18\n",
      "department: software engineering\n"
     ]
    },
    {
     "name": "stdout",
     "output_type": "stream",
     "text": [
      "-----------------------------------\n",
      "-----------------------------------\n"
     ]
    }
   ],
   "source": [
    "print(\"------------------------------------\")\n",
    "print(\"------------------------------------\")\n",
    "print( \" My profile\")\n",
    "name=str(input(\" name:\"))\n",
    "\n",
    "course=str(input(\" course name:\"))\n",
    "\n",
    "gender=str(input(\" gender:\"))\n",
    "\n",
    "age=int(input(\" age:\"))\n",
    "\n",
    "dept=str(input(\"department:\"))\n",
    "\n",
    "print(\"-----------------------------------\")\n",
    "print(\"-----------------------------------\")\n"
   ]
  },
  {
   "cell_type": "code",
   "execution_count": 19,
   "id": "9521e7e1-e972-4e43-b342-80284c1993ac",
   "metadata": {},
   "outputs": [
    {
     "name": "stdin",
     "output_type": "stream",
     "text": [
      "marks of sub1: 98\n",
      "marks of sub2: 67\n",
      "marks of sub3: 89\n",
      "marks of sub4: 56\n",
      "marks of sub5: 78\n"
     ]
    },
    {
     "name": "stdout",
     "output_type": "stream",
     "text": [
      "total marks 388\n",
      "percentage 77.60000000000001\n"
     ]
    }
   ],
   "source": [
    "sub1=int(input(\"marks of sub1:\"))\n",
    "sub2=int(input(\"marks of sub2:\"))\n",
    "sub3=int(input(\"marks of sub3:\"))\n",
    "sub4=int(input(\"marks of sub4:\"))\n",
    "sub5=int(input(\"marks of sub5:\"))\n",
    "sum=sub1+sub2+sub3+sub4+sub5\n",
    "print(\"total marks\",sum)\n",
    "per=(sum/500)*100\n",
    "print(\"percentage\",per)"
   ]
  },
  {
   "cell_type": "code",
   "execution_count": null,
   "id": "a81e5f15-db65-4aaf-8c20-3e49482a42d2",
   "metadata": {},
   "outputs": [],
   "source": []
  }
 ],
 "metadata": {
  "kernelspec": {
   "display_name": "Python 3 (ipykernel)",
   "language": "python",
   "name": "python3"
  },
  "language_info": {
   "codemirror_mode": {
    "name": "ipython",
    "version": 3
   },
   "file_extension": ".py",
   "mimetype": "text/x-python",
   "name": "python",
   "nbconvert_exporter": "python",
   "pygments_lexer": "ipython3",
   "version": "3.12.2"
  }
 },
 "nbformat": 4,
 "nbformat_minor": 5
}
