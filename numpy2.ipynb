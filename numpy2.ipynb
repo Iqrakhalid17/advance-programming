{
 "cells": [
  {
   "cell_type": "code",
   "execution_count": 1,
   "id": "27833b4c-0fdc-4c08-80e1-2e5b539bf383",
   "metadata": {},
   "outputs": [],
   "source": [
    "import numpy as np\n"
   ]
  },
  {
   "cell_type": "code",
   "execution_count": 20,
   "id": "41e973d0-0a64-498e-8af5-e1a47df8043e",
   "metadata": {},
   "outputs": [
    {
     "data": {
      "text/plain": [
       "array([   1,   32,  243, 1024, 3125, 7776], dtype=int32)"
      ]
     },
     "execution_count": 20,
     "metadata": {},
     "output_type": "execute_result"
    }
   ],
   "source": [
    "arr_1 = np.array([1,2,3,4,5,6])\n",
    "arr_2 = np.array([4,5,6,7,8,9])\n",
    "\n",
    "arr_1+arr_2\n",
    "\n",
    "arr_1**5"
   ]
  },
  {
   "cell_type": "code",
   "execution_count": 12,
   "id": "2ce4aec1-492e-494d-bedc-9ce98736f137",
   "metadata": {},
   "outputs": [
    {
     "data": {
      "text/plain": [
       "array([ 5,  7,  9, 11, 13, 15])"
      ]
     },
     "execution_count": 12,
     "metadata": {},
     "output_type": "execute_result"
    }
   ],
   "source": [
    "new_arr1 = np.array([1,2,3,4,5,6])\n",
    "new_arr2 = np.array([4,5,6,7,8,9])\n",
    "\n",
    "new_arr1+new_arr2"
   ]
  },
  {
   "cell_type": "code",
   "execution_count": 13,
   "id": "49d98e91-3cb4-4716-b5e5-f128050528d8",
   "metadata": {},
   "outputs": [
    {
     "data": {
      "text/plain": [
       "array([ 4, 10, 18, 28, 40, 54])"
      ]
     },
     "execution_count": 13,
     "metadata": {},
     "output_type": "execute_result"
    }
   ],
   "source": [
    "new_arr1*new_arr2"
   ]
  },
  {
   "cell_type": "code",
   "execution_count": 14,
   "id": "a81adf3d-fea5-4e80-8676-3b0a5adef38d",
   "metadata": {},
   "outputs": [
    {
     "data": {
      "text/plain": [
       "array([ 2,  4,  6,  8, 10, 12])"
      ]
     },
     "execution_count": 14,
     "metadata": {},
     "output_type": "execute_result"
    }
   ],
   "source": [
    "new_arr1*2"
   ]
  },
  {
   "cell_type": "code",
   "execution_count": 15,
   "id": "671f358a-ed40-497a-89d7-f2fcf075bb11",
   "metadata": {},
   "outputs": [
    {
     "data": {
      "text/plain": [
       "array([-3, -3, -3, -3, -3, -3])"
      ]
     },
     "execution_count": 15,
     "metadata": {},
     "output_type": "execute_result"
    }
   ],
   "source": [
    "new_arr1-new_arr2"
   ]
  },
  {
   "cell_type": "code",
   "execution_count": 17,
   "id": "31c2909c-0114-4b09-8d03-bb0e51c8d7fa",
   "metadata": {},
   "outputs": [
    {
     "data": {
      "text/plain": [
       "array([  1,   8,  27,  64, 125, 216], dtype=int32)"
      ]
     },
     "execution_count": 17,
     "metadata": {},
     "output_type": "execute_result"
    }
   ],
   "source": [
    "new_arr1**3"
   ]
  },
  {
   "cell_type": "raw",
   "id": "ef877806-68db-40f7-8da5-519894054266",
   "metadata": {},
   "source": [
    "print(new_arr1)"
   ]
  },
  {
   "cell_type": "code",
   "execution_count": 22,
   "id": "5a04a040-2d0d-4544-ba7f-2941f4655d41",
   "metadata": {},
   "outputs": [
    {
     "data": {
      "text/plain": [
       "array([0, 1, 2, 3, 4, 5])"
      ]
     },
     "execution_count": 22,
     "metadata": {},
     "output_type": "execute_result"
    }
   ],
   "source": [
    "np.arange(6)"
   ]
  },
  {
   "cell_type": "code",
   "execution_count": null,
   "id": "9b5b4ac5-d075-4395-bd66-b90db96335e1",
   "metadata": {},
   "outputs": [],
   "source": [
    "arr_1 = np.array([1,2,3,4,5,6])\n",
    "arr_2 = np.array([4,5,6,7,8,9])\n",
    "\n"
   ]
  },
  {
   "cell_type": "code",
   "execution_count": 36,
   "id": "c6b65a98-bf24-41c1-97e4-5f0f62aedf16",
   "metadata": {},
   "outputs": [
    {
     "data": {
      "text/plain": [
       "array([[0, 1, 2],\n",
       "       [3, 4, 5]])"
      ]
     },
     "execution_count": 36,
     "metadata": {},
     "output_type": "execute_result"
    }
   ],
   "source": [
    "arr_3 = np.arange(6).reshape(2,3)\n",
    "arr_4 = np.arange(6).reshape(3,2)\n",
    "arr_3"
   ]
  },
  {
   "cell_type": "code",
   "execution_count": 37,
   "id": "66999737-3913-44f7-bcde-a7422d9458af",
   "metadata": {},
   "outputs": [
    {
     "data": {
      "text/plain": [
       "array([[0, 1],\n",
       "       [2, 3],\n",
       "       [4, 5]])"
      ]
     },
     "execution_count": 37,
     "metadata": {},
     "output_type": "execute_result"
    }
   ],
   "source": [
    "arr_4   "
   ]
  },
  {
   "cell_type": "code",
   "execution_count": 38,
   "id": "d9f59ede-e1bb-4603-9f26-689dd81099e1",
   "metadata": {},
   "outputs": [
    {
     "ename": "ValueError",
     "evalue": "shapes (6,) and (2,3) not aligned: 6 (dim 0) != 2 (dim 0)",
     "output_type": "error",
     "traceback": [
      "\u001b[1;31m---------------------------------------------------------------------------\u001b[0m",
      "\u001b[1;31mValueError\u001b[0m                                Traceback (most recent call last)",
      "Cell \u001b[1;32mIn[38], line 1\u001b[0m\n\u001b[1;32m----> 1\u001b[0m \u001b[43mnew_arr1\u001b[49m\u001b[38;5;241;43m.\u001b[39;49m\u001b[43mdot\u001b[49m\u001b[43m(\u001b[49m\u001b[43marr_3\u001b[49m\u001b[43m)\u001b[49m\n",
      "\u001b[1;31mValueError\u001b[0m: shapes (6,) and (2,3) not aligned: 6 (dim 0) != 2 (dim 0)"
     ]
    }
   ],
   "source": [
    "new_arr1.dot(arr_3)"
   ]
  },
  {
   "cell_type": "code",
   "execution_count": 39,
   "id": "1dd83a98-1853-438a-b58b-92f3ae497db2",
   "metadata": {},
   "outputs": [
    {
     "data": {
      "text/plain": [
       "6"
      ]
     },
     "execution_count": 39,
     "metadata": {},
     "output_type": "execute_result"
    }
   ],
   "source": [
    "new_arr1.max()"
   ]
  },
  {
   "cell_type": "code",
   "execution_count": 40,
   "id": "0c170161-a218-42ae-902f-6ca6fabfb615",
   "metadata": {},
   "outputs": [
    {
     "data": {
      "text/plain": [
       "0"
      ]
     },
     "execution_count": 40,
     "metadata": {},
     "output_type": "execute_result"
    }
   ],
   "source": [
    "arr_4.min()"
   ]
  },
  {
   "cell_type": "code",
   "execution_count": 41,
   "id": "79f4559a-fb1a-42d9-820a-08c9c40b9d41",
   "metadata": {},
   "outputs": [
    {
     "data": {
      "text/plain": [
       "2.5"
      ]
     },
     "execution_count": 41,
     "metadata": {},
     "output_type": "execute_result"
    }
   ],
   "source": [
    "arr_3.mean()"
   ]
  },
  {
   "cell_type": "code",
   "execution_count": 44,
   "id": "1ef04668-b3ff-4e77-8cfe-568d542c9462",
   "metadata": {},
   "outputs": [
    {
     "data": {
      "text/plain": [
       "array([0, 2, 4])"
      ]
     },
     "execution_count": 44,
     "metadata": {},
     "output_type": "execute_result"
    }
   ],
   "source": [
    "arr_4.min(axis=1)"
   ]
  },
  {
   "cell_type": "code",
   "execution_count": 45,
   "id": "3b8e760a-16a4-4912-9175-df79673cf54c",
   "metadata": {},
   "outputs": [
    {
     "data": {
      "text/plain": [
       "1.707825127659933"
      ]
     },
     "execution_count": 45,
     "metadata": {},
     "output_type": "execute_result"
    }
   ],
   "source": [
    "arr_3.std()"
   ]
  },
  {
   "cell_type": "code",
   "execution_count": 46,
   "id": "8eaec232-9571-4ed6-b3f9-7b726c325ee0",
   "metadata": {},
   "outputs": [
    {
     "data": {
      "text/plain": [
       "array([[0.        , 1.        ],\n",
       "       [1.41421356, 1.73205081],\n",
       "       [2.        , 2.23606798]])"
      ]
     },
     "execution_count": 46,
     "metadata": {},
     "output_type": "execute_result"
    }
   ],
   "source": [
    "np.sqrt(arr_4)"
   ]
  },
  {
   "cell_type": "code",
   "execution_count": 47,
   "id": "3305f54b-d44b-46bc-9195-2343d243b09d",
   "metadata": {},
   "outputs": [
    {
     "data": {
      "text/plain": [
       "1.707825127659933"
      ]
     },
     "execution_count": 47,
     "metadata": {},
     "output_type": "execute_result"
    }
   ],
   "source": [
    "np.std(arr_3)"
   ]
  },
  {
   "cell_type": "code",
   "execution_count": 53,
   "id": "f97ad13f-ba26-4a50-bdb5-62ea07e2c0f7",
   "metadata": {},
   "outputs": [
    {
     "data": {
      "text/plain": [
       "array([[0, 1],\n",
       "       [2, 3],\n",
       "       [4, 5]])"
      ]
     },
     "execution_count": 53,
     "metadata": {},
     "output_type": "execute_result"
    }
   ],
   "source": [
    "arr_4 = np.arange(6).reshape(3,2)\n",
    "arr_4"
   ]
  },
  {
   "cell_type": "code",
   "execution_count": 57,
   "id": "87826b71-2d5c-4b18-b648-751529d0caa0",
   "metadata": {},
   "outputs": [
    {
     "data": {
      "text/plain": [
       "array([[0, 2, 4],\n",
       "       [1, 3, 5]])"
      ]
     },
     "execution_count": 57,
     "metadata": {},
     "output_type": "execute_result"
    }
   ],
   "source": [
    "arr_4.T"
   ]
  },
  {
   "cell_type": "code",
   "execution_count": 59,
   "id": "1e16935b-9500-4f63-a72d-b18107f6c723",
   "metadata": {},
   "outputs": [
    {
     "data": {
      "text/plain": [
       "array([[0, 1, 2],\n",
       "       [3, 4, 5]])"
      ]
     },
     "execution_count": 59,
     "metadata": {},
     "output_type": "execute_result"
    }
   ],
   "source": [
    "arr_1"
   ]
  },
  {
   "cell_type": "code",
   "execution_count": 61,
   "id": "7550157b-18e0-4053-96e5-357a125985c9",
   "metadata": {},
   "outputs": [
    {
     "data": {
      "text/plain": [
       "array([[0, 1, 2],\n",
       "       [3, 4, 5]])"
      ]
     },
     "execution_count": 61,
     "metadata": {},
     "output_type": "execute_result"
    }
   ],
   "source": [
    "arr_2"
   ]
  },
  {
   "cell_type": "code",
   "execution_count": 62,
   "id": "dacccf99-f783-4873-9f7b-8052bd15f0d5",
   "metadata": {},
   "outputs": [
    {
     "data": {
      "text/plain": [
       "array([[0, 1, 2, 0, 1, 2],\n",
       "       [3, 4, 5, 3, 4, 5]])"
      ]
     },
     "execution_count": 62,
     "metadata": {},
     "output_type": "execute_result"
    }
   ],
   "source": [
    "np.hstack((arr_1,arr_2))"
   ]
  },
  {
   "cell_type": "code",
   "execution_count": 63,
   "id": "52fa0249-1918-4d2a-9b36-d6b1c36b4c48",
   "metadata": {},
   "outputs": [
    {
     "data": {
      "text/plain": [
       "array([[0, 1, 2],\n",
       "       [3, 4, 5],\n",
       "       [0, 1, 2],\n",
       "       [3, 4, 5]])"
      ]
     },
     "execution_count": 63,
     "metadata": {},
     "output_type": "execute_result"
    }
   ],
   "source": [
    "np.vstack((arr_1,arr_2))"
   ]
  },
  {
   "cell_type": "code",
   "execution_count": 64,
   "id": "96999487-9af1-44d5-84da-a41ca4b9e4b3",
   "metadata": {},
   "outputs": [
    {
     "data": {
      "text/plain": [
       "array([[ 0,  1,  2,  3],\n",
       "       [ 4,  5,  6,  7],\n",
       "       [ 8,  9, 10, 11],\n",
       "       [12, 13, 14, 15],\n",
       "       [16, 17, 18, 19],\n",
       "       [20, 21, 22, 23]])"
      ]
     },
     "execution_count": 64,
     "metadata": {},
     "output_type": "execute_result"
    }
   ],
   "source": [
    "arr_5=np.arange(24).reshape(6,4)\n",
    "arr_5"
   ]
  },
  {
   "cell_type": "code",
   "execution_count": 65,
   "id": "1a24e12b-49d7-47a6-9018-c307b186ed3e",
   "metadata": {},
   "outputs": [
    {
     "data": {
      "text/plain": [
       "array([], shape=(0, 0), dtype=int32)"
      ]
     },
     "execution_count": 65,
     "metadata": {},
     "output_type": "execute_result"
    }
   ],
   "source": [
    "arr_5[3:2,6:3]"
   ]
  },
  {
   "cell_type": "code",
   "execution_count": 66,
   "id": "589fcdb8-4b43-48f1-a486-b343a97e5d24",
   "metadata": {},
   "outputs": [
    {
     "data": {
      "text/plain": [
       "array([[75, 15, 92, 88, 86],\n",
       "       [88, 92, 95, 47, 48],\n",
       "       [36, 39, 39, 25, 61],\n",
       "       [30, 63, 49, 76, 92]])"
      ]
     },
     "execution_count": 66,
     "metadata": {},
     "output_type": "execute_result"
    }
   ],
   "source": [
    "new_arr = np.random.randint(low=1,high=100,size=20).reshape(4,5)\n",
    "new_arr"
   ]
  },
  {
   "cell_type": "code",
   "execution_count": 67,
   "id": "c6a711a3-1370-4aca-8fe2-7116960a6e77",
   "metadata": {},
   "outputs": [
    {
     "data": {
      "text/plain": [
       "88"
      ]
     },
     "execution_count": 67,
     "metadata": {},
     "output_type": "execute_result"
    }
   ],
   "source": [
    "new_arr[0][3]"
   ]
  },
  {
   "cell_type": "code",
   "execution_count": 68,
   "id": "861d96c5-e514-45e2-8b55-7704a30736d4",
   "metadata": {},
   "outputs": [
    {
     "data": {
      "text/plain": [
       "100"
      ]
     },
     "execution_count": 68,
     "metadata": {},
     "output_type": "execute_result"
    }
   ],
   "source": [
    "x=np.linspace(-30,30,100)\n",
    "x.size"
   ]
  },
  {
   "cell_type": "code",
   "execution_count": 74,
   "id": "7c150c2e-ab4e-436d-a163-a14aab79ddc7",
   "metadata": {},
   "outputs": [
    {
     "name": "stdout",
     "output_type": "stream",
     "text": [
      "Collecting matplotlib\n",
      "  Downloading matplotlib-3.8.3-cp312-cp312-win_amd64.whl.metadata (5.9 kB)\n",
      "Collecting contourpy>=1.0.1 (from matplotlib)\n",
      "  Downloading contourpy-1.2.0-cp312-cp312-win_amd64.whl.metadata (5.8 kB)\n",
      "Collecting cycler>=0.10 (from matplotlib)\n",
      "  Downloading cycler-0.12.1-py3-none-any.whl.metadata (3.8 kB)\n",
      "Collecting fonttools>=4.22.0 (from matplotlib)\n",
      "  Downloading fonttools-4.50.0-cp312-cp312-win_amd64.whl.metadata (162 kB)\n",
      "     ---------------------------------------- 0.0/162.6 kB ? eta -:--:--\n",
      "     ------- ------------------------------- 30.7/162.6 kB 1.3 MB/s eta 0:00:01\n",
      "     --------- --------------------------- 41.0/162.6 kB 495.5 kB/s eta 0:00:01\n",
      "     -------------------- ---------------- 92.2/162.6 kB 871.5 kB/s eta 0:00:01\n",
      "     ------------------------ ----------- 112.6/162.6 kB 726.2 kB/s eta 0:00:01\n",
      "     ---------------------------------- - 153.6/162.6 kB 833.5 kB/s eta 0:00:01\n",
      "     ---------------------------------- - 153.6/162.6 kB 833.5 kB/s eta 0:00:01\n",
      "     ------------------------------------ 162.6/162.6 kB 609.4 kB/s eta 0:00:00\n",
      "Collecting kiwisolver>=1.3.1 (from matplotlib)\n",
      "  Downloading kiwisolver-1.4.5-cp312-cp312-win_amd64.whl.metadata (6.5 kB)\n",
      "Requirement already satisfied: numpy<2,>=1.21 in c:\\users\\lab4\\appdata\\local\\programs\\python\\python312\\lib\\site-packages (from matplotlib) (1.26.4)\n",
      "Requirement already satisfied: packaging>=20.0 in c:\\users\\lab4\\appdata\\local\\programs\\python\\python312\\lib\\site-packages (from matplotlib) (23.2)\n",
      "Collecting pillow>=8 (from matplotlib)\n",
      "  Downloading pillow-10.2.0-cp312-cp312-win_amd64.whl.metadata (9.9 kB)\n",
      "Collecting pyparsing>=2.3.1 (from matplotlib)\n",
      "  Downloading pyparsing-3.1.2-py3-none-any.whl.metadata (5.1 kB)\n",
      "Requirement already satisfied: python-dateutil>=2.7 in c:\\users\\lab4\\appdata\\local\\programs\\python\\python312\\lib\\site-packages (from matplotlib) (2.9.0.post0)\n",
      "Requirement already satisfied: six>=1.5 in c:\\users\\lab4\\appdata\\local\\programs\\python\\python312\\lib\\site-packages (from python-dateutil>=2.7->matplotlib) (1.16.0)\n",
      "Downloading matplotlib-3.8.3-cp312-cp312-win_amd64.whl (7.6 MB)\n",
      "   ---------------------------------------- 0.0/7.6 MB ? eta -:--:--\n",
      "    --------------------------------------- 0.1/7.6 MB 6.8 MB/s eta 0:00:02\n",
      "    --------------------------------------- 0.1/7.6 MB 6.8 MB/s eta 0:00:02\n",
      "   - -------------------------------------- 0.3/7.6 MB 3.0 MB/s eta 0:00:03\n",
      "   - -------------------------------------- 0.3/7.6 MB 3.0 MB/s eta 0:00:03\n",
      "   -- ------------------------------------- 0.5/7.6 MB 3.1 MB/s eta 0:00:03\n",
      "   --- ------------------------------------ 0.6/7.6 MB 3.4 MB/s eta 0:00:03\n",
      "   ---- ----------------------------------- 0.9/7.6 MB 3.8 MB/s eta 0:00:02\n",
      "   ----- ---------------------------------- 1.0/7.6 MB 3.9 MB/s eta 0:00:02\n",
      "   ------ --------------------------------- 1.3/7.6 MB 4.0 MB/s eta 0:00:02\n",
      "   ------ --------------------------------- 1.3/7.6 MB 4.0 MB/s eta 0:00:02\n",
      "   ------ --------------------------------- 1.3/7.6 MB 4.0 MB/s eta 0:00:02\n",
      "   ------ --------------------------------- 1.3/7.6 MB 4.0 MB/s eta 0:00:02\n",
      "   ------ --------------------------------- 1.3/7.6 MB 4.0 MB/s eta 0:00:02\n",
      "   ------ --------------------------------- 1.3/7.6 MB 4.0 MB/s eta 0:00:02\n",
      "   ------ --------------------------------- 1.3/7.6 MB 4.0 MB/s eta 0:00:02\n",
      "   ------ --------------------------------- 1.3/7.6 MB 4.0 MB/s eta 0:00:02\n",
      "   ------- -------------------------------- 1.3/7.6 MB 2.2 MB/s eta 0:00:03\n",
      "   ------- -------------------------------- 1.3/7.6 MB 2.2 MB/s eta 0:00:03\n",
      "   ------- -------------------------------- 1.4/7.6 MB 2.0 MB/s eta 0:00:04\n",
      "   ------- -------------------------------- 1.4/7.6 MB 2.0 MB/s eta 0:00:04\n",
      "   ------- -------------------------------- 1.4/7.6 MB 1.8 MB/s eta 0:00:04\n",
      "   ------- -------------------------------- 1.4/7.6 MB 1.8 MB/s eta 0:00:04\n",
      "   ------- -------------------------------- 1.4/7.6 MB 1.7 MB/s eta 0:00:04\n",
      "   ------- -------------------------------- 1.4/7.6 MB 1.7 MB/s eta 0:00:04\n",
      "   ------- -------------------------------- 1.4/7.6 MB 1.6 MB/s eta 0:00:04\n",
      "   ------- -------------------------------- 1.4/7.6 MB 1.6 MB/s eta 0:00:04\n",
      "   ------- -------------------------------- 1.4/7.6 MB 1.6 MB/s eta 0:00:04\n",
      "   -------- ------------------------------- 1.5/7.6 MB 1.6 MB/s eta 0:00:04\n",
      "   -------- ------------------------------- 1.5/7.6 MB 1.6 MB/s eta 0:00:04\n",
      "   -------- ------------------------------- 1.7/7.6 MB 1.6 MB/s eta 0:00:04\n",
      "   -------- ------------------------------- 1.7/7.6 MB 1.6 MB/s eta 0:00:04\n",
      "   --------- ------------------------------ 1.9/7.6 MB 1.6 MB/s eta 0:00:04\n",
      "   --------- ------------------------------ 1.9/7.6 MB 1.6 MB/s eta 0:00:04\n",
      "   ----------- ---------------------------- 2.1/7.6 MB 1.7 MB/s eta 0:00:04\n",
      "   ----------- ---------------------------- 2.1/7.6 MB 1.7 MB/s eta 0:00:04\n",
      "   ------------ --------------------------- 2.5/7.6 MB 1.9 MB/s eta 0:00:03\n",
      "   ------------- -------------------------- 2.5/7.6 MB 1.9 MB/s eta 0:00:03\n",
      "   -------------- ------------------------- 2.8/7.6 MB 2.0 MB/s eta 0:00:03\n",
      "   -------------- ------------------------- 2.9/7.6 MB 2.0 MB/s eta 0:00:03\n",
      "   -------------- ------------------------- 2.9/7.6 MB 2.0 MB/s eta 0:00:03\n",
      "   -------------- ------------------------- 2.9/7.6 MB 2.0 MB/s eta 0:00:03\n",
      "   -------------------- ------------------- 3.8/7.6 MB 2.5 MB/s eta 0:00:02\n",
      "   --------------------- ------------------ 4.1/7.6 MB 2.6 MB/s eta 0:00:02\n",
      "   ----------------------- ---------------- 4.4/7.6 MB 2.7 MB/s eta 0:00:02\n",
      "   ----------------------- ---------------- 4.5/7.6 MB 2.8 MB/s eta 0:00:02\n",
      "   ----------------------- ---------------- 4.5/7.6 MB 2.8 MB/s eta 0:00:02\n",
      "   ------------------------ --------------- 4.6/7.6 MB 2.6 MB/s eta 0:00:02\n",
      "   ------------------------ --------------- 4.6/7.6 MB 2.6 MB/s eta 0:00:02\n",
      "   ------------------------ --------------- 4.6/7.6 MB 2.6 MB/s eta 0:00:02\n",
      "   --------------------------- ------------ 5.3/7.6 MB 2.8 MB/s eta 0:00:01\n",
      "   ---------------------------- ----------- 5.4/7.6 MB 2.8 MB/s eta 0:00:01\n",
      "   ----------------------------- ---------- 5.6/7.6 MB 2.9 MB/s eta 0:00:01\n",
      "   ------------------------------ --------- 5.8/7.6 MB 2.9 MB/s eta 0:00:01\n",
      "   ------------------------------ --------- 5.8/7.6 MB 2.9 MB/s eta 0:00:01\n",
      "   ------------------------------ --------- 5.8/7.6 MB 2.9 MB/s eta 0:00:01\n",
      "   -------------------------------- ------- 6.3/7.6 MB 3.0 MB/s eta 0:00:01\n",
      "   --------------------------------- ------ 6.4/7.6 MB 3.0 MB/s eta 0:00:01\n",
      "   ---------------------------------- ----- 6.6/7.6 MB 3.0 MB/s eta 0:00:01\n",
      "   ------------------------------------ --- 7.0/7.6 MB 3.2 MB/s eta 0:00:01\n",
      "   -------------------------------------- - 7.3/7.6 MB 3.3 MB/s eta 0:00:01\n",
      "   ---------------------------------------  7.6/7.6 MB 3.4 MB/s eta 0:00:01\n",
      "   ---------------------------------------  7.6/7.6 MB 3.4 MB/s eta 0:00:01\n",
      "   ---------------------------------------  7.6/7.6 MB 3.4 MB/s eta 0:00:01\n",
      "   ---------------------------------------  7.6/7.6 MB 3.4 MB/s eta 0:00:01\n",
      "   ---------------------------------------  7.6/7.6 MB 3.4 MB/s eta 0:00:01\n",
      "   ---------------------------------------  7.6/7.6 MB 3.4 MB/s eta 0:00:01\n",
      "   ---------------------------------------  7.6/7.6 MB 3.4 MB/s eta 0:00:01\n",
      "   ---------------------------------------  7.6/7.6 MB 3.4 MB/s eta 0:00:01\n",
      "   ---------------------------------------- 7.6/7.6 MB 3.0 MB/s eta 0:00:00\n",
      "Downloading contourpy-1.2.0-cp312-cp312-win_amd64.whl (187 kB)\n",
      "   ---------------------------------------- 0.0/187.7 kB ? eta -:--:--\n",
      "   --------------------------------------  184.3/187.7 kB 10.9 MB/s eta 0:00:01\n",
      "   ---------------------------------------- 187.7/187.7 kB 2.8 MB/s eta 0:00:00\n",
      "Downloading cycler-0.12.1-py3-none-any.whl (8.3 kB)\n",
      "Downloading fonttools-4.50.0-cp312-cp312-win_amd64.whl (2.2 MB)\n",
      "   ---------------------------------------- 0.0/2.2 MB ? eta -:--:--\n",
      "   --------- ------------------------------ 0.5/2.2 MB 15.4 MB/s eta 0:00:01\n",
      "   --------------- ------------------------ 0.8/2.2 MB 10.4 MB/s eta 0:00:01\n",
      "   ----------------------- ---------------- 1.3/2.2 MB 11.4 MB/s eta 0:00:01\n",
      "   ----------------------------- ---------- 1.6/2.2 MB 11.3 MB/s eta 0:00:01\n",
      "   ------------------------------------ --- 2.0/2.2 MB 10.5 MB/s eta 0:00:01\n",
      "   ---------------------------------------  2.2/2.2 MB 10.6 MB/s eta 0:00:01\n",
      "   ---------------------------------------  2.2/2.2 MB 10.6 MB/s eta 0:00:01\n",
      "   ---------------------------------------  2.2/2.2 MB 10.6 MB/s eta 0:00:01\n",
      "   ---------------------------------------  2.2/2.2 MB 10.6 MB/s eta 0:00:01\n",
      "   ---------------------------------------  2.2/2.2 MB 10.6 MB/s eta 0:00:01\n",
      "   ---------------------------------------- 2.2/2.2 MB 5.8 MB/s eta 0:00:00\n",
      "Downloading kiwisolver-1.4.5-cp312-cp312-win_amd64.whl (56 kB)\n",
      "   ---------------------------------------- 0.0/56.0 kB ? eta -:--:--\n",
      "   ------------------------------------ --- 51.2/56.0 kB ? eta -:--:--\n",
      "   ---------------------------------------- 56.0/56.0 kB 973.7 kB/s eta 0:00:00\n",
      "Downloading pillow-10.2.0-cp312-cp312-win_amd64.whl (2.6 MB)\n",
      "   ---------------------------------------- 0.0/2.6 MB ? eta -:--:--\n",
      "   ------ --------------------------------- 0.5/2.6 MB 9.4 MB/s eta 0:00:01\n",
      "   ------------ --------------------------- 0.8/2.6 MB 10.4 MB/s eta 0:00:01\n",
      "   ------------------- -------------------- 1.3/2.6 MB 10.4 MB/s eta 0:00:01\n",
      "   ------------------------- -------------- 1.7/2.6 MB 10.5 MB/s eta 0:00:01\n",
      "   -------------------------------- ------- 2.1/2.6 MB 10.3 MB/s eta 0:00:01\n",
      "   -------------------------------------- - 2.5/2.6 MB 10.6 MB/s eta 0:00:01\n",
      "   ---------------------------------------  2.6/2.6 MB 10.4 MB/s eta 0:00:01\n",
      "   ---------------------------------------  2.6/2.6 MB 10.4 MB/s eta 0:00:01\n",
      "   ---------------------------------------  2.6/2.6 MB 10.4 MB/s eta 0:00:01\n",
      "   ---------------------------------------  2.6/2.6 MB 10.4 MB/s eta 0:00:01\n",
      "   ---------------------------------------- 2.6/2.6 MB 6.7 MB/s eta 0:00:00\n",
      "Downloading pyparsing-3.1.2-py3-none-any.whl (103 kB)\n",
      "   ---------------------------------------- 0.0/103.2 kB ? eta -:--:--\n",
      "   ---------------------------------------  102.4/103.2 kB ? eta -:--:--\n",
      "   ---------------------------------------  102.4/103.2 kB ? eta -:--:--\n",
      "   ---------------------------------------  102.4/103.2 kB ? eta -:--:--\n",
      "   -------------------------------------- 103.2/103.2 kB 744.0 kB/s eta 0:00:00\n",
      "Installing collected packages: pyparsing, pillow, kiwisolver, fonttools, cycler, contourpy, matplotlib\n",
      "Successfully installed contourpy-1.2.0 cycler-0.12.1 fonttools-4.50.0 kiwisolver-1.4.5 matplotlib-3.8.3 pillow-10.2.0 pyparsing-3.1.2\n"
     ]
    }
   ],
   "source": [
    "!pip install matplotlib"
   ]
  },
  {
   "cell_type": "code",
   "execution_count": 75,
   "id": "92403ca5-4875-4d04-8350-6179be397579",
   "metadata": {},
   "outputs": [],
   "source": [
    "import matplotlib.pyplot as plt\n"
   ]
  },
  {
   "cell_type": "code",
   "execution_count": 69,
   "id": "c01cb2c3-6ac9-4f53-bf96-e730a2e5f5db",
   "metadata": {},
   "outputs": [
    {
     "data": {
      "text/plain": [
       "100"
      ]
     },
     "execution_count": 69,
     "metadata": {},
     "output_type": "execute_result"
    }
   ],
   "source": [
    "y=np.sin(x)\n",
    "y.size"
   ]
  },
  {
   "cell_type": "code",
   "execution_count": 76,
   "id": "b3a1c3c0-a98d-41e1-9f7f-cdab9441f825",
   "metadata": {},
   "outputs": [
    {
     "data": {
      "text/plain": [
       "[<matplotlib.lines.Line2D at 0xa328ad0d0>]"
      ]
     },
     "execution_count": 76,
     "metadata": {},
     "output_type": "execute_result"
    },
    {
     "data": {
      "image/png": "[encoded data removed]",
      "text/plain": [
       "<Figure size 640x480 with 1 Axes>"
      ]
     },
     "metadata": {},
     "output_type": "display_data"
    }
   ],
   "source": [
    "plt.plot(x,y)"
   ]
  },
  {
   "cell_type": "code",
   "execution_count": 77,
   "id": "f988dc9a-5199-4915-b758-d696b3fbbca8",
   "metadata": {},
   "outputs": [],
   "source": [
    "y=x**3+2*x+4"
   ]
  },
  {
   "cell_type": "code",
   "execution_count": 78,
   "id": "0d410ad6-1d41-4f66-a913-5901e2cc0d8a",
   "metadata": {},
   "outputs": [
    {
     "data": {
      "text/plain": [
       "[<matplotlib.lines.Line2D at 0xa34a92a50>]"
      ]
     },
     "execution_count": 78,
     "metadata": {},
     "output_type": "execute_result"
    },
    {
     "data": {
      "image/png": "[encoded data removed]",
      "text/plain": [
       "<Figure size 640x480 with 1 Axes>"
      ]
     },
     "metadata": {},
     "output_type": "display_data"
    }
   ],
   "source": [
    "plt.plot(x,y)"
   ]
  },
  {
   "cell_type": "code",
   "execution_count": 79,
   "id": "425bee07-366c-4bb1-858a-f79aa7c1f13c",
   "metadata": {},
   "outputs": [
    {
     "name": "stdout",
     "output_type": "stream",
     "text": [
      "[[0 1 2]\n",
      " [3 4 5]\n",
      " [6 7 8]]\n",
      "[[0 1 2]]\n"
     ]
    }
   ],
   "source": [
    "a3= np.arange(9).reshape(3,3)\n",
    "a4= np.arange(3).reshape(1,3)\n",
    "print(a3)\n",
    "print(a4)"
   ]
  },
  {
   "cell_type": "code",
   "execution_count": 80,
   "id": "94f4036b-d9c3-45f2-b441-772e6017d7a6",
   "metadata": {},
   "outputs": [
    {
     "data": {
      "text/plain": [
       "array([[ 0,  2,  4],\n",
       "       [ 3,  5,  7],\n",
       "       [ 6,  8, 10]])"
      ]
     },
     "execution_count": 80,
     "metadata": {},
     "output_type": "execute_result"
    }
   ],
   "source": [
    "a3+a4"
   ]
  },
  {
   "cell_type": "code",
   "execution_count": 83,
   "id": "474254e6-566b-44e1-98de-c8edba3395ee",
   "metadata": {},
   "outputs": [
    {
     "data": {
      "text/plain": [
       "array([[0, 1, 2, 3],\n",
       "       [4, 5, 6, 7]])"
      ]
     },
     "execution_count": 83,
     "metadata": {},
     "output_type": "execute_result"
    }
   ],
   "source": [
    "a1= np.arange(8).reshape(2,4)\n",
    "a1"
   ]
  },
  {
   "cell_type": "code",
   "execution_count": 84,
   "id": "11472a28-5690-4855-8b47-874a47167a8f",
   "metadata": {},
   "outputs": [
    {
     "data": {
      "text/plain": [
       "array([[ 8,  9, 10, 11],\n",
       "       [12, 13, 14, 15]])"
      ]
     },
     "execution_count": 84,
     "metadata": {},
     "output_type": "execute_result"
    }
   ],
   "source": [
    "\n",
    "a2= np.arange(8,16).reshape(2,4)\n",
    "a2"
   ]
  },
  {
   "cell_type": "code",
   "execution_count": 86,
   "id": "f64c92ef-68b0-4b8d-9708-f4f3aecf0847",
   "metadata": {},
   "outputs": [
    {
     "data": {
      "text/plain": [
       "array([[16, 18, 20, 22],\n",
       "       [24, 26, 28, 30]])"
      ]
     },
     "execution_count": 86,
     "metadata": {},
     "output_type": "execute_result"
    }
   ],
   "source": [
    "a1+a2"
   ]
  },
  {
   "cell_type": "code",
   "execution_count": null,
   "id": "9bbf95a2-f5e8-48b4-bd6b-3fb5cab6aa1e",
   "metadata": {},
   "outputs": [],
   "source": []
  }
 ],
 "metadata": {
  "kernelspec": {
   "display_name": "Python 3 (ipykernel)",
   "language": "python",
   "name": "python3"
  },
  "language_info": {
   "codemirror_mode": {
    "name": "ipython",
    "version": 3
   },
   "file_extension": ".py",
   "mimetype": "text/x-python",
   "name": "python",
   "nbconvert_exporter": "python",
   "pygments_lexer": "ipython3",
   "version": "3.12.2"
  }
 },
 "nbformat": 4,
 "nbformat_minor": 5
}
