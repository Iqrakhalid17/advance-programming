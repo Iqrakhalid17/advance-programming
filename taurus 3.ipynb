{
 "cells": [
  {
   "cell_type": "code",
   "execution_count": 12,
   "id": "5b5dbc70-6fae-44b8-81ed-08cb2411fe82",
   "metadata": {},
   "outputs": [
    {
     "name": "stdin",
     "output_type": "stream",
     "text": [
      "Enter your name : taurus\n",
      "enter your age : 50\n",
      "enter your inst_name : mars\n"
     ]
    },
    {
     "name": "stdout",
     "output_type": "stream",
     "text": [
      "name:- taurus\n",
      "age:- 50\n",
      "inst_name;- mars\n"
     ]
    }
   ],
   "source": [
    "def intro(name,age,inst_name):\n",
    "    print('name:-', name)\n",
    "    print('age:-', age)\n",
    "    print('inst_name;-', inst_name)\n",
    "name  = input(\"Enter your name :\")\n",
    "age = int(input(\"enter your age :\"))\n",
    "inst_name = input(\"enter your inst_name :\")\n",
    "intro(name,age,inst_name)"
   ]
  },
  {
   "cell_type": "code",
   "execution_count": null,
   "id": "9043f7d8-3fc4-49a6-ac55-2b077bff2832",
   "metadata": {},
   "outputs": [],
   "source": []
  },
  {
   "cell_type": "code",
   "execution_count": null,
   "id": "ad7e0bbb-600a-4810-9530-6bb20d12e55c",
   "metadata": {},
   "outputs": [],
   "source": []
  }
 ],
 "metadata": {
  "kernelspec": {
   "display_name": "Python 3 (ipykernel)",
   "language": "python",
   "name": "python3"
  },
  "language_info": {
   "codemirror_mode": {
    "name": "ipython",
    "version": 3
   },
   "file_extension": ".py",
   "mimetype": "text/x-python",
   "name": "python",
   "nbconvert_exporter": "python",
   "pygments_lexer": "ipython3",
   "version": "3.12.2"
  }
 },
 "nbformat": 4,
 "nbformat_minor": 5
}
