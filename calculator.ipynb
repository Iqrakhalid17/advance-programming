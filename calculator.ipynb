{
 "cells": [
  {
   "cell_type": "code",
   "execution_count": null,
   "id": "69c7de4b-1f27-4d04-a32c-805365f8d373",
   "metadata": {},
   "outputs": [],
   "source": [
    "\n",
    "def addition(x,y):\n",
    "    return x+y\n",
    "\n",
    "\n",
    "def subtraction(x,y):\n",
    "    return x-y\n",
    "\n",
    "\n",
    "def multiplacation(x,y):\n",
    "    return x*y\n",
    "\n",
    "\n",
    "def division(x,y):\n",
    "    return x/y\n",
    "\n",
    "\n",
    "def reminder(x,y):\n",
    "    return x%y"
   ]
  },
  {
   "cell_type": "code",
   "execution_count": null,
   "id": "13aace71-5dba-4ab9-9133-3a1ae757c235",
   "metadata": {},
   "outputs": [],
   "source": []
  },
  {
   "cell_type": "code",
   "execution_count": null,
   "id": "98ddfe4c-41aa-4678-9cea-e1c3808d2287",
   "metadata": {},
   "outputs": [],
   "source": []
  }
 ],
 "metadata": {
  "kernelspec": {
   "display_name": "Python 3 (ipykernel)",
   "language": "python",
   "name": "python3"
  },
  "language_info": {
   "codemirror_mode": {
    "name": "ipython",
    "version": 3
   },
   "file_extension": ".py",
   "mimetype": "text/x-python",
   "name": "python",
   "nbconvert_exporter": "python",
   "pygments_lexer": "ipython3",
   "version": "3.12.2"
  }
 },
 "nbformat": 4,
 "nbformat_minor": 5
}
