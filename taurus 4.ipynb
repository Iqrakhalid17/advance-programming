{
 "cells": [
  {
   "cell_type": "code",
   "execution_count": 12,
   "id": "5b5dbc70-6fae-44b8-81ed-08cb2411fe82",
   "metadata": {},
   "outputs": [
    {
     "name": "stdin",
     "output_type": "stream",
     "text": [
      "Enter your name : taurus\n",
      "enter your age : 50\n",
      "enter your inst_name : mars\n"
     ]
    },
    {
     "name": "stdout",
     "output_type": "stream",
     "text": [
      "name:- taurus\n",
      "age:- 50\n",
      "inst_name;- mars\n"
     ]
    }
   ],
   "source": [
    "def intro(name,age,inst_name):\n",
    "    print('name:-', name)\n",
    "    print('age:-', age)\n",
    "    print('inst_name;-', inst_name)\n",
    "name  = input(\"Enter your name :\")\n",
    "age = int(input(\"enter your age :\"))\n",
    "inst_name = input(\"enter your inst_name :\")\n",
    "intro(name,age,inst_name)"
   ]
  },
  {
   "cell_type": "code",
   "execution_count": 10,
   "id": "9043f7d8-3fc4-49a6-ac55-2b077bff2832",
   "metadata": {},
   "outputs": [
    {
     "name": "stdin",
     "output_type": "stream",
     "text": [
      "enter length :  8\n",
      "enter your height :  9\n"
     ]
    },
    {
     "name": "stdout",
     "output_type": "stream",
     "text": [
      "length is :  8\n",
      "width is :  9\n",
      "result of area :  72\n"
     ]
    }
   ],
   "source": [
    "def Area(a,b):\n",
    "    a= int(a)\n",
    "    b=int(b)\n",
    "    print(\"length is : \",a)\n",
    "    print(\"width is : \",b)\n",
    "    area = a*b\n",
    "    print(\"result of area : \", area)\n",
    "    \n",
    "h= input(\"enter length : \")\n",
    "w= input(\"enter your height : \")\n",
    "Area(h,w)"
   ]
  },
  {
   "cell_type": "code",
   "execution_count": 12,
   "id": "d66cfe7d-f1ad-4752-a12e-9406879b875e",
   "metadata": {},
   "outputs": [
    {
     "name": "stdin",
     "output_type": "stream",
     "text": [
      "enter your length :  8\n",
      "enter your width :  5\n"
     ]
    },
    {
     "name": "stdout",
     "output_type": "stream",
     "text": [
      "length is :  8\n",
      "width is :  5\n",
      "result of parameter :  26\n"
     ]
    }
   ],
   "source": [
    "def parameter(a,b):\n",
    "    a= int(a)\n",
    "    b=int(b)\n",
    "    print(\"length is : \",a)\n",
    "    print(\"width is : \",b)\n",
    "    parameter = 2*a +2*b\n",
    "    print(\"result of parameter : \", parameter)\n",
    "\n",
    "l= input(\"enter your length : \")\n",
    "w= input(\"enter your width : \")\n",
    "parameter(l,w)\n"
   ]
  },
  {
   "cell_type": "code",
   "execution_count": 2,
   "id": "c9d67242-1c1b-426f-a3fa-29b8e3169669",
   "metadata": {},
   "outputs": [
    {
     "name": "stdin",
     "output_type": "stream",
     "text": [
      "enter number :  65\n",
      "enter number :  90\n",
      "enter operation :  *\n"
     ]
    },
    {
     "name": "stdout",
     "output_type": "stream",
     "text": [
      "multiplication of numbers :  5850\n"
     ]
    }
   ],
   "source": [
    "\n",
    " def add(operator_1,operator_2):\n",
    "    print(\"addition of numbers : \", operator_1+operator_2)\n",
    " def subtract(operator_1,operator_2):\n",
    "    print(\"subtraction of numbers : \", operator_1-operator_2)\n",
    " def multiply(operator_1,operator_2):\n",
    "    print(\"multiplication of numbers : \", operator_1*operator_2)\n",
    " def divide(operator_1,operator_2):\n",
    "     if operator_2==0:\n",
    "      print(\"operation is not possible\")\n",
    "     else:\n",
    "      print(\"division of numbers : \", operator_1/operator_2)\n",
    "def remainder(operator_1,operator_2):\n",
    "     print(\"remainder of numbers : \", operator_1%operator_2)\n",
    "\n",
    "def calculator(operator_1,operator_2,operation):\n",
    "    if operation=='+':\n",
    "     add(operator_1,operator_2)\n",
    "    elif operation=='-':\n",
    "     subtract(operator_1,operator_2)\n",
    "    elif operation=='*':\n",
    "     multiply(operator_1,operator_2)\n",
    "    elif operation=='/':\n",
    "     divide(operator_1,operator_2)\n",
    "    elif operation=='%':\n",
    "     remainder(operator_1,operator_2)\n",
    "    else:\n",
    "     print(\" invalid \")\n",
    "     \n",
    "operator_1= int(input(\"enter number : \"))\n",
    "operator_2= int(input(\"enter number : \"))\n",
    "operation= input(\"enter operation : \")\n",
    "calculator(operator_1,operator_2,operation)"
   ]
  },
  {
   "cell_type": "code",
   "execution_count": 6,
   "id": "2a18fa2c-7d39-4fd9-a449-a4ff6cd2da03",
   "metadata": {},
   "outputs": [
    {
     "name": "stdin",
     "output_type": "stream",
     "text": [
      "enter your first_name iqra\n",
      "enter your surname khalid\n",
      "enter your last_name naWAZ\n"
     ]
    },
    {
     "name": "stdout",
     "output_type": "stream",
     "text": [
      "iqra,khalid,naWAZ\n"
     ]
    }
   ],
   "source": [
    "def name(first_name, surname, last_name):\n",
    "    name= \"{},{},{}\".format(first_name, surname, last_name)\n",
    "    print (name)\n",
    "first_name=input(\"enter your first_name\")\n",
    "surname=input(\"enter your surname\")\n",
    "last_name=input(\"enter your last_name\")\n",
    "name(first_name, surname, last_name)   \n"
   ]
  },
  {
   "cell_type": "code",
   "execution_count": 7,
   "id": "da603430-a6f4-4bb2-b37a-de1fa64b2862",
   "metadata": {},
   "outputs": [
    {
     "name": "stdout",
     "output_type": "stream",
     "text": [
      "{'name': 'taurus', 'age': '20', 'race': 'nigga'}\n"
     ]
    }
   ],
   "source": [
    "dict={\"name\": \"taurus\",\"age\": \"20\",\"race\": \"nigga\"}\n",
    "for i in dict:\n",
    "    "
   ]
  },
  {
   "cell_type": "code",
   "execution_count": 5,
   "id": "90df84ce-116c-408d-a71e-171d2a807609",
   "metadata": {},
   "outputs": [],
   "source": [
    "c=3\n",
    "def add():\n",
    "    global c\n",
    "    c=c+8\n",
    "    return c\n",
    "    add (7)\n"
   ]
  }
 ],
 "metadata": {
  "kernelspec": {
   "display_name": "Python 3 (ipykernel)",
   "language": "python",
   "name": "python3"
  },
  "language_info": {
   "codemirror_mode": {
    "name": "ipython",
    "version": 3
   },
   "file_extension": ".py",
   "mimetype": "text/x-python",
   "name": "python",
   "nbconvert_exporter": "python",
   "pygments_lexer": "ipython3",
   "version": "3.12.2"
  }
 },
 "nbformat": 4,
 "nbformat_minor": 5
}
