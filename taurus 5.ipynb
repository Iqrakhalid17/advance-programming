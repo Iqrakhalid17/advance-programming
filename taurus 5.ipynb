{
 "cells": [
  {
   "cell_type": "code",
   "execution_count": 4,
   "id": "e966aad5-d742-410e-b266-b5faa75e84a9",
   "metadata": {},
   "outputs": [
    {
     "name": "stdout",
     "output_type": "stream",
     "text": [
      "11\n"
     ]
    }
   ],
   "source": [
    "c=3\n",
    "def addit():\n",
    "    global c\n",
    "    c=c+8\n",
    "    return c\n",
    "\n",
    "print(addit())"
   ]
  },
  {
   "cell_type": "code",
   "execution_count": 2,
   "id": "f20bb3c7-7db6-4038-8b34-61451af525ed",
   "metadata": {},
   "outputs": [
    {
     "name": "stdout",
     "output_type": "stream",
     "text": [
      "588\n"
     ]
    }
   ],
   "source": [
    "d=98\n",
    "def multiply(p):\n",
    "     global d\n",
    "     m=d*6\n",
    "     return m\n",
    "print(multiply(98))"
   ]
  },
  {
   "cell_type": "code",
   "execution_count": 4,
   "id": "34e8da5d-fff3-49bb-a82c-235def5e9d56",
   "metadata": {},
   "outputs": [
    {
     "name": "stdout",
     "output_type": "stream",
     "text": [
      "None\n"
     ]
    }
   ],
   "source": [
    "def f1(x):\n",
    "    def getf2(x):\n",
    "        v=\"iqra\"\n",
    "        y= x*v\n",
    "        return y \n",
    "    getf2(x)\n",
    "\n",
    "print(f1(2))\n",
    "\n",
    "        "
   ]
  },
  {
   "cell_type": "code",
   "execution_count": 8,
   "id": "afe06164-65d9-438d-9acc-a6a284fb81cb",
   "metadata": {},
   "outputs": [
    {
     "name": "stdout",
     "output_type": "stream",
     "text": [
      "iqraiqra\n"
     ]
    }
   ],
   "source": [
    "def f1():\n",
    "    def getf2():\n",
    "        v=\"iqra\"\n",
    "        v= v*2\n",
    "        return v \n",
    "    print(getf2())\n",
    "\n",
    "f1()\n",
    "\n",
    "        "
   ]
  },
  {
   "cell_type": "code",
   "execution_count": 17,
   "id": "699b8f5b-faed-44d9-8f3d-b1ecdbcbef10",
   "metadata": {},
   "outputs": [
    {
     "name": "stdout",
     "output_type": "stream",
     "text": [
      "9\n",
      "13\n"
     ]
    }
   ],
   "source": [
    "num = [9,10,11,12,13]\n",
    "\n",
    "min_number = min(num)\n",
    "print(min_number)\n",
    "\n",
    "max_number = max(num)\n",
    "print(max_number)"
   ]
  },
  {
   "cell_type": "code",
   "execution_count": 1,
   "id": "8e857306-649c-42dd-8338-fbbc6aceb938",
   "metadata": {},
   "outputs": [
    {
     "name": "stdout",
     "output_type": "stream",
     "text": [
      "['i', 'q', 'r', 'a', 'k', 'h', 'a', 'l', 'i', 'd']\n",
      "['d', 'i', 'l', 'a', 'h', 'k', 'a', 'r', 'q', 'i']\n"
     ]
    }
   ],
   "source": [
    "a='iqrakhalid'\n",
    "reverse =reversed(a)\n",
    "\n",
    "print(list(a))\n",
    "\n",
    "print(list(reverse))"
   ]
  },
  {
   "cell_type": "code",
   "execution_count": 2,
   "id": "735f2d90-aab2-48da-ab0e-42748fcb725e",
   "metadata": {},
   "outputs": [
    {
     "name": "stdout",
     "output_type": "stream",
     "text": [
      "['b', 'u', 'd', 'b', 'u', 'd', 'b', 'u', 'd', 'i', 'd', 'd', 'i', 'b', 'i', 'k', 's']\n"
     ]
    }
   ],
   "source": [
    "a='skibiddidubdubdub'\n",
    "reverse =reversed(a)\n",
    "\n",
    "print(list(reverse))"
   ]
  }
 ],
 "metadata": {
  "kernelspec": {
   "display_name": "Python 3 (ipykernel)",
   "language": "python",
   "name": "python3"
  },
  "language_info": {
   "codemirror_mode": {
    "name": "ipython",
    "version": 3
   },
   "file_extension": ".py",
   "mimetype": "text/x-python",
   "name": "python",
   "nbconvert_exporter": "python",
   "pygments_lexer": "ipython3",
   "version": "3.12.2"
  }
 },
 "nbformat": 4,
 "nbformat_minor": 5
}
