{
 "cells": [
  {
   "cell_type": "code",
   "execution_count": 3,
   "id": "e030dc0b-0e70-4598-b3fe-0c24e4ee274b",
   "metadata": {},
   "outputs": [],
   "source": [
    "open_file=open('test.txt','w')"
   ]
  },
  {
   "cell_type": "code",
   "execution_count": 4,
   "id": "50aaa03a-3e1b-4108-8e42-26e84ba5da6d",
   "metadata": {},
   "outputs": [],
   "source": [
    "open_file=open('test.txt')"
   ]
  },
  {
   "cell_type": "code",
   "execution_count": 5,
   "id": "add73f39-0a47-4aef-ac54-76f5079a979b",
   "metadata": {},
   "outputs": [],
   "source": [
    "open_file=open('test.txt','a')"
   ]
  },
  {
   "cell_type": "code",
   "execution_count": 6,
   "id": "dfbe45e4-0eae-421c-80c4-470b95fc9522",
   "metadata": {},
   "outputs": [],
   "source": [
    "open_file=open('test.txt','r')"
   ]
  },
  {
   "cell_type": "code",
   "execution_count": 8,
   "id": "90e68d7f-7e37-487f-b7e9-e0f7a844b6fa",
   "metadata": {},
   "outputs": [],
   "source": [
    "open_file=open('text.txt','x')"
   ]
  },
  {
   "cell_type": "code",
   "execution_count": 13,
   "id": "261c87c8-2551-4109-91a2-97e014e1ab6c",
   "metadata": {},
   "outputs": [
    {
     "name": "stdout",
     "output_type": "stream",
     "text": [
      "you are a nigga\n",
      "you belong from niger\n",
      "\n"
     ]
    }
   ],
   "source": [
    "with open('test.txt') as file:\n",
    "    data=file.read()\n",
    "\n",
    "print(data)"
   ]
  },
  {
   "cell_type": "code",
   "execution_count": 12,
   "id": "da41e278-75c5-41c5-860b-e3e1c88c5bc3",
   "metadata": {},
   "outputs": [],
   "source": [
    "open_file=open('test.txt', 'a')\n",
    "x=fileobj"
   ]
  },
  {
   "cell_type": "code",
   "execution_count": null,
   "id": "159197aa-0834-4dbf-beb7-7926efe37797",
   "metadata": {},
   "outputs": [],
   "source": []
  }
 ],
 "metadata": {
  "kernelspec": {
   "display_name": "Python 3 (ipykernel)",
   "language": "python",
   "name": "python3"
  },
  "language_info": {
   "codemirror_mode": {
    "name": "ipython",
    "version": 3
   },
   "file_extension": ".py",
   "mimetype": "text/x-python",
   "name": "python",
   "nbconvert_exporter": "python",
   "pygments_lexer": "ipython3",
   "version": "3.11.7"
  }
 },
 "nbformat": 4,
 "nbformat_minor": 5
}
