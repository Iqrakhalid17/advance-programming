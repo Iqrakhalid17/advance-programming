{
 "cells": [
  {
   "cell_type": "code",
   "execution_count": 3,
   "id": "d5fe6b2a-3755-4fbe-94aa-e303f99603c6",
   "metadata": {},
   "outputs": [
    {
     "name": "stdout",
     "output_type": "stream",
     "text": [
      "Requirement already satisfied: pandas in c:\\users\\lab4\\appdata\\local\\programs\\python\\python312\\lib\\site-packages (2.2.1)\n",
      "Requirement already satisfied: numpy<2,>=1.26.0 in c:\\users\\lab4\\appdata\\local\\programs\\python\\python312\\lib\\site-packages (from pandas) (1.26.4)\n",
      "Requirement already satisfied: python-dateutil>=2.8.2 in c:\\users\\lab4\\appdata\\local\\programs\\python\\python312\\lib\\site-packages (from pandas) (2.9.0.post0)\n",
      "Requirement already satisfied: pytz>=2020.1 in c:\\users\\lab4\\appdata\\local\\programs\\python\\python312\\lib\\site-packages (from pandas) (2024.1)\n",
      "Requirement already satisfied: tzdata>=2022.7 in c:\\users\\lab4\\appdata\\local\\programs\\python\\python312\\lib\\site-packages (from pandas) (2024.1)\n",
      "Requirement already satisfied: six>=1.5 in c:\\users\\lab4\\appdata\\local\\programs\\python\\python312\\lib\\site-packages (from python-dateutil>=2.8.2->pandas) (1.16.0)\n"
     ]
    }
   ],
   "source": [
    "!pip install pandas\n"
   ]
  },
  {
   "cell_type": "code",
   "execution_count": 6,
   "id": "de43a671-0302-4b83-99b2-59d9873b4844",
   "metadata": {},
   "outputs": [
    {
     "name": "stdout",
     "output_type": "stream",
     "text": [
      "2.2.1\n"
     ]
    }
   ],
   "source": [
    "import pandas as pd\n",
    "print(pd.__version_)\n"
   ]
  },
  {
   "cell_type": "code",
   "execution_count": 13,
   "id": "ec61b5e9-8c8b-488e-8502-a31727b8265b",
   "metadata": {},
   "outputs": [
    {
     "data": {
      "text/html": [
       "<div>\n",
       "<style scoped>\n",
       "    .dataframe tbody tr th:only-of-type {\n",
       "        vertical-align: middle;\n",
       "    }\n",
       "\n",
       "    .dataframe tbody tr th {\n",
       "        vertical-align: top;\n",
       "    }\n",
       "\n",
       "    .dataframe thead th {\n",
       "        text-align: right;\n",
       "    }\n",
       "</style>\n",
       "<table border=\"1\" class=\"dataframe\">\n",
       "  <thead>\n",
       "    <tr style=\"text-align: right;\">\n",
       "      <th></th>\n",
       "      <th>foods</th>\n",
       "      <th>digits</th>\n",
       "    </tr>\n",
       "  </thead>\n",
       "  <tbody>\n",
       "    <tr>\n",
       "      <th>0</th>\n",
       "      <td>fruits</td>\n",
       "      <td>45</td>\n",
       "    </tr>\n",
       "    <tr>\n",
       "      <th>1</th>\n",
       "      <td>vegetable</td>\n",
       "      <td>85</td>\n",
       "    </tr>\n",
       "    <tr>\n",
       "      <th>2</th>\n",
       "      <td>soups</td>\n",
       "      <td>90</td>\n",
       "    </tr>\n",
       "  </tbody>\n",
       "</table>\n",
       "</div>"
      ],
      "text/plain": [
       "       foods  digits\n",
       "0     fruits      45\n",
       "1  vegetable      85\n",
       "2      soups      90"
      ]
     },
     "execution_count": 13,
     "metadata": {},
     "output_type": "execute_result"
    }
   ],
   "source": [
    "mydataset= {\n",
    "    'foods':[\"fruits\", \"vegetable\",\"soups\"], \n",
    "    'digits':[45,85,90]\n",
    "}\n",
    "  \n",
    "    \n",
    "pd.DataFrame(mydataset)\n"
   ]
  },
  {
   "cell_type": "code",
   "execution_count": 17,
   "id": "5211e1e6-2778-475e-835e-119582f202a1",
   "metadata": {},
   "outputs": [
    {
     "name": "stdout",
     "output_type": "stream",
     "text": [
      "          he  digits\n",
      "0     fruits      45\n",
      "1  vegetable      85\n",
      "2      soups      90\n"
     ]
    }
   ],
   "source": [
    "mydataset= {\n",
    "    'he':[\"fruits\", \"vegetable\",\"soups\"], \n",
    "    'digits':[45,85,90]\n",
    "}\n",
    "df= pd.DataFrame(mydataset)\n",
    "print(df)\n"
   ]
  },
  {
   "cell_type": "code",
   "execution_count": 18,
   "id": "bd2ca32a-5ffc-42fc-8059-299fe99dd98e",
   "metadata": {},
   "outputs": [
    {
     "name": "stdout",
     "output_type": "stream",
     "text": [
      "       foods  digits  people\n",
      "0     fruits      45    umar\n",
      "1  vegetable      85    iqra\n",
      "2      soups      90   nancy\n",
      "3      pasta      65  hassam\n",
      "4      pizza      87  abeeha\n"
     ]
    }
   ],
   "source": [
    "mydataset= {\n",
    "    'foods':[\"fruits\", \"vegetable\",\"soups\",\"pasta\",\"pizza\",\"cake\"], \n",
    "    'digits':[45,85,90,65,87,43],\n",
    "    'people':[\"umar\",\"iqra\",\"nancy\",\"hassam\",\"abeeha\",\"anooshay\"]\n",
    "}\n",
    "\n",
    "df=pd.DataFrame(mydataset)\n",
    "\n",
    "print(df.head())\n"
   ]
  },
  {
   "cell_type": "code",
   "execution_count": 23,
   "id": "ba3dc473-94c5-4b32-94c3-2f3126c7ec04",
   "metadata": {},
   "outputs": [
    {
     "name": "stdout",
     "output_type": "stream",
     "text": [
      "   foods  digits    people\n",
      "4  pizza      87    abeeha\n",
      "5   cake      43  anooshay\n"
     ]
    }
   ],
   "source": [
    "mydataset= {\n",
    "    'foods':[\"fruits\", \"vegetable\",\"soups\",\"pasta\",\"pizza\",\"cake\"], \n",
    "    'digits':[45,85,90,65,87,43],\n",
    "    'people':[\"umar\",\"iqra\",\"nancy\",\"hassam\",\"abeeha\",\"anooshay\"]\n",
    "}\n",
    "\n",
    "df=pd.DataFrame(mydataset)\n",
    "\n",
    "print(df.tail(2))\n"
   ]
  },
  {
   "cell_type": "code",
   "execution_count": 27,
   "id": "b498c878-054c-40ef-85ea-d02989210dfd",
   "metadata": {},
   "outputs": [
    {
     "data": {
      "text/html": [
       "<div>\n",
       "<style scoped>\n",
       "    .dataframe tbody tr th:only-of-type {\n",
       "        vertical-align: middle;\n",
       "    }\n",
       "\n",
       "    .dataframe tbody tr th {\n",
       "        vertical-align: top;\n",
       "    }\n",
       "\n",
       "    .dataframe thead th {\n",
       "        text-align: right;\n",
       "    }\n",
       "</style>\n",
       "<table border=\"1\" class=\"dataframe\">\n",
       "  <thead>\n",
       "    <tr style=\"text-align: right;\">\n",
       "      <th></th>\n",
       "      <th>foods</th>\n",
       "      <th>digits</th>\n",
       "      <th>people</th>\n",
       "    </tr>\n",
       "  </thead>\n",
       "  <tbody>\n",
       "    <tr>\n",
       "      <th>4</th>\n",
       "      <td>pizza</td>\n",
       "      <td>87</td>\n",
       "      <td>abeeha</td>\n",
       "    </tr>\n",
       "  </tbody>\n",
       "</table>\n",
       "</div>"
      ],
      "text/plain": [
       "   foods  digits  people\n",
       "4  pizza      87  abeeha"
      ]
     },
     "execution_count": 27,
     "metadata": {},
     "output_type": "execute_result"
    }
   ],
   "source": [
    "mydataset= {\n",
    "    'foods':[\"fruits\", \"vegetable\",\"soups\",\"pasta\",\"pizza\",\"cake\"], \n",
    "    'digits':[45,85,90,65,87,43],\n",
    "    'people':[\"umar\",\"iqra\",\"nancy\",\"hassam\",\"abeeha\",\"anooshay\"]\n",
    "}\n",
    "\n",
    "df=pd.DataFrame(mydataset)\n",
    "\n",
    "df.sample()\n"
   ]
  },
  {
   "cell_type": "code",
   "execution_count": 25,
   "id": "d2c8a83a-f856-47f1-bf6c-c941846b1cb2",
   "metadata": {},
   "outputs": [
    {
     "name": "stdout",
     "output_type": "stream",
     "text": [
      "(6, 3)\n"
     ]
    }
   ],
   "source": [
    "mydataset= {\n",
    "    'foods':[\"fruits\", \"vegetable\",\"soups\",\"pasta\",\"pizza\",\"cake\"], \n",
    "    'digits':[45,85,90,65,87,43],\n",
    "    'people':[\"umar\",\"iqra\",\"nancy\",\"hassam\",\"abeeha\",\"anooshay\"]\n",
    "}\n",
    "\n",
    "df=pd.DataFrame(mydataset)\n",
    "\n",
    "print(df.shape)\n"
   ]
  },
  {
   "cell_type": "code",
   "execution_count": 29,
   "id": "534ed864-141c-40ad-84a8-bf8a8aae1be3",
   "metadata": {},
   "outputs": [
    {
     "name": "stdout",
     "output_type": "stream",
     "text": [
      "<class 'pandas.core.frame.DataFrame'>\n",
      "RangeIndex: 6 entries, 0 to 5\n",
      "Data columns (total 3 columns):\n",
      " #   Column  Non-Null Count  Dtype \n",
      "---  ------  --------------  ----- \n",
      " 0   foods   6 non-null      object\n",
      " 1   digits  6 non-null      int64 \n",
      " 2   people  6 non-null      object\n",
      "dtypes: int64(1), object(2)\n",
      "memory usage: 276.0+ bytes\n"
     ]
    }
   ],
   "source": [
    "mydataset= {\n",
    "    'foods':[\"fruits\", \"vegetable\",\"soups\",\"pasta\",\"pizza\",\"cake\"], \n",
    "    'digits':[45,85,90,65,87,43],\n",
    "    'people':[\"umar\",\"iqra\",\"nancy\",\"hassam\",\"abeeha\",\"anooshay\"]\n",
    "}\n",
    "\n",
    "df=pd.DataFrame(mydataset)\n",
    "\n",
    "df.info()\n"
   ]
  },
  {
   "cell_type": "code",
   "execution_count": 30,
   "id": "b140e194-5cdb-4421-a6df-c9dce1f1675c",
   "metadata": {},
   "outputs": [
    {
     "data": {
      "text/html": [
       "<div>\n",
       "<style scoped>\n",
       "    .dataframe tbody tr th:only-of-type {\n",
       "        vertical-align: middle;\n",
       "    }\n",
       "\n",
       "    .dataframe tbody tr th {\n",
       "        vertical-align: top;\n",
       "    }\n",
       "\n",
       "    .dataframe thead th {\n",
       "        text-align: right;\n",
       "    }\n",
       "</style>\n",
       "<table border=\"1\" class=\"dataframe\">\n",
       "  <thead>\n",
       "    <tr style=\"text-align: right;\">\n",
       "      <th></th>\n",
       "      <th>digits</th>\n",
       "    </tr>\n",
       "  </thead>\n",
       "  <tbody>\n",
       "    <tr>\n",
       "      <th>count</th>\n",
       "      <td>6.000000</td>\n",
       "    </tr>\n",
       "    <tr>\n",
       "      <th>mean</th>\n",
       "      <td>69.166667</td>\n",
       "    </tr>\n",
       "    <tr>\n",
       "      <th>std</th>\n",
       "      <td>21.395482</td>\n",
       "    </tr>\n",
       "    <tr>\n",
       "      <th>min</th>\n",
       "      <td>43.000000</td>\n",
       "    </tr>\n",
       "    <tr>\n",
       "      <th>25%</th>\n",
       "      <td>50.000000</td>\n",
       "    </tr>\n",
       "    <tr>\n",
       "      <th>50%</th>\n",
       "      <td>75.000000</td>\n",
       "    </tr>\n",
       "    <tr>\n",
       "      <th>75%</th>\n",
       "      <td>86.500000</td>\n",
       "    </tr>\n",
       "    <tr>\n",
       "      <th>max</th>\n",
       "      <td>90.000000</td>\n",
       "    </tr>\n",
       "  </tbody>\n",
       "</table>\n",
       "</div>"
      ],
      "text/plain": [
       "          digits\n",
       "count   6.000000\n",
       "mean   69.166667\n",
       "std    21.395482\n",
       "min    43.000000\n",
       "25%    50.000000\n",
       "50%    75.000000\n",
       "75%    86.500000\n",
       "max    90.000000"
      ]
     },
     "execution_count": 30,
     "metadata": {},
     "output_type": "execute_result"
    }
   ],
   "source": [
    "mydataset= {\n",
    "    'foods':[\"fruits\", \"vegetable\",\"soups\",\"pasta\",\"pizza\",\"cake\"], \n",
    "    'digits':[45,85,90,65,87,43],\n",
    "    'people':[\"umar\",\"iqra\",\"nancy\",\"hassam\",\"abeeha\",\"anooshay\"]\n",
    "}\n",
    "\n",
    "df=pd.DataFrame(mydataset)\n",
    "\n",
    "df.describe()\n"
   ]
  },
  {
   "cell_type": "code",
   "execution_count": 1,
   "id": "110173ca-a9ca-40c5-a99a-4cb86a28467c",
   "metadata": {},
   "outputs": [
    {
     "ename": "NameError",
     "evalue": "name 'pd' is not defined",
     "output_type": "error",
     "traceback": [
      "\u001b[1;31m---------------------------------------------------------------------------\u001b[0m",
      "\u001b[1;31mNameError\u001b[0m                                 Traceback (most recent call last)",
      "Cell \u001b[1;32mIn[1], line 6\u001b[0m\n\u001b[0;32m      1\u001b[0m dataset\u001b[38;5;241m=\u001b[39m {\u001b[38;5;124m'\u001b[39m\u001b[38;5;124manimals\u001b[39m\u001b[38;5;124m'\u001b[39m:[\u001b[38;5;124m\"\u001b[39m\u001b[38;5;124mlion\u001b[39m\u001b[38;5;124m\"\u001b[39m,\u001b[38;5;124m\"\u001b[39m\u001b[38;5;124mcat\u001b[39m\u001b[38;5;124m\"\u001b[39m,\u001b[38;5;124m\"\u001b[39m\u001b[38;5;124mdog\u001b[39m\u001b[38;5;124m\"\u001b[39m,\u001b[38;5;124m\"\u001b[39m\u001b[38;5;124mhen\u001b[39m\u001b[38;5;124m\"\u001b[39m,\u001b[38;5;124m\"\u001b[39m\u001b[38;5;124mtiger\u001b[39m\u001b[38;5;124m\"\u001b[39m],\n\u001b[0;32m      2\u001b[0m           \u001b[38;5;124m'\u001b[39m\u001b[38;5;124mnumbers\u001b[39m\u001b[38;5;124m'\u001b[39m:[\u001b[38;5;241m90\u001b[39m,\u001b[38;5;241m87\u001b[39m,\u001b[38;5;241m65\u001b[39m,\u001b[38;5;241m45\u001b[39m,\u001b[38;5;241m33\u001b[39m,\u001b[38;5;241m20\u001b[39m],\n\u001b[0;32m      3\u001b[0m           \u001b[38;5;124m'\u001b[39m\u001b[38;5;124mname\u001b[39m\u001b[38;5;124m'\u001b[39m:[\u001b[38;5;124m\"\u001b[39m\u001b[38;5;124mabby\u001b[39m\u001b[38;5;124m\"\u001b[39m,\u001b[38;5;124m\"\u001b[39m\u001b[38;5;124mkaty\u001b[39m\u001b[38;5;124m\"\u001b[39m,\u001b[38;5;124m\"\u001b[39m\u001b[38;5;124mcinthy\u001b[39m\u001b[38;5;124m\"\u001b[39m,\u001b[38;5;124m\"\u001b[39m\u001b[38;5;124mbatty\u001b[39m\u001b[38;5;124m\"\u001b[39m,\u001b[38;5;124m\"\u001b[39m\u001b[38;5;124miqra\u001b[39m\u001b[38;5;124m\"\u001b[39m,\u001b[38;5;124m\"\u001b[39m\u001b[38;5;124mkhalid\u001b[39m\u001b[38;5;124m\"\u001b[39m]\n\u001b[0;32m      4\u001b[0m          }\n\u001b[1;32m----> 6\u001b[0m df \u001b[38;5;241m=\u001b[39m \u001b[43mpd\u001b[49m\u001b[38;5;241m.\u001b[39mDataFrame(dataset)\n\u001b[0;32m      8\u001b[0m pd\u001b[38;5;241m.\u001b[39mDataFrame(mydataset)\n",
      "\u001b[1;31mNameError\u001b[0m: name 'pd' is not defined"
     ]
    }
   ],
   "source": [
    "dataset= {'animals':[\"lion\",\"cat\",\"dog\",\"hen\",\"tiger\"],\n",
    "          'numbers':[90,87,65,45,33,20],\n",
    "          'name':[\"abby\",\"katy\",\"cinthy\",\"batty\",\"iqra\",\"khalid\"]\n",
    "         }\n",
    "\n",
    "df = pd.DataFrame(dataset)\n",
    "\n",
    "pd.DataFrame(mydataset)\n"
   ]
  }
 ],
 "metadata": {
  "kernelspec": {
   "display_name": "Python 3 (ipykernel)",
   "language": "python",
   "name": "python3"
  },
  "language_info": {
   "codemirror_mode": {
    "name": "ipython",
    "version": 3
   },
   "file_extension": ".py",
   "mimetype": "text/x-python",
   "name": "python",
   "nbconvert_exporter": "python",
   "pygments_lexer": "ipython3",
   "version": "3.12.2"
  }
 },
 "nbformat": 4,
 "nbformat_minor": 5
}
